{
 "cells": [
  {
   "cell_type": "code",
   "execution_count": 20,
   "metadata": {},
   "outputs": [],
   "source": [
    "%matplotlib inline"
   ]
  },
  {
   "cell_type": "code",
   "execution_count": 17,
   "metadata": {},
   "outputs": [
    {
     "data": {
      "text/plain": [
       "{'ALLUSERSPROFILE': 'C:\\\\ProgramData',\n",
       " 'APPDATA': 'C:\\\\Users\\\\SMART\\\\AppData\\\\Roaming',\n",
       " 'COMMONPROGRAMFILES': 'C:\\\\Program Files\\\\Common Files',\n",
       " 'COMMONPROGRAMFILES(X86)': 'C:\\\\Program Files (x86)\\\\Common Files',\n",
       " 'COMMONPROGRAMW6432': 'C:\\\\Program Files\\\\Common Files',\n",
       " 'COMPUTERNAME': 'LAPTOP-TC6VUU36',\n",
       " 'COMSPEC': 'C:\\\\WINDOWS\\\\system32\\\\cmd.exe',\n",
       " 'CONDA_DEFAULT_ENV': 'base',\n",
       " 'CONDA_EXE': 'C:\\\\Users\\\\SMART\\\\anaconda3\\\\Scripts\\\\conda.exe',\n",
       " 'CONDA_PROMPT_MODIFIER': '(base) ',\n",
       " 'CONDA_PYTHON_EXE': 'C:\\\\Users\\\\SMART\\\\anaconda3\\\\python.exe',\n",
       " 'CONDA_ROOT': 'C:\\\\Users\\\\SMART\\\\anaconda3',\n",
       " 'CONDA_SHLVL': '1',\n",
       " 'DRIVERDATA': 'C:\\\\Windows\\\\System32\\\\Drivers\\\\DriverData',\n",
       " 'FPS_BROWSER_APP_PROFILE_STRING': 'Internet Explorer',\n",
       " 'FPS_BROWSER_USER_PROFILE_STRING': 'Default',\n",
       " 'HOMEDRIVE': 'C:',\n",
       " 'HOMEPATH': '\\\\Users\\\\SMART',\n",
       " 'LOCALAPPDATA': 'C:\\\\Users\\\\SMART\\\\AppData\\\\Local',\n",
       " 'LOGONSERVER': '\\\\\\\\LAPTOP-TC6VUU36',\n",
       " 'NUMBER_OF_PROCESSORS': '4',\n",
       " 'ONEDRIVE': 'C:\\\\Users\\\\SMART\\\\OneDrive',\n",
       " 'ONLINESERVICES': 'Online Services',\n",
       " 'OS': 'Windows_NT',\n",
       " 'PATH': 'C:\\\\Users\\\\SMART\\\\anaconda3;C:\\\\Users\\\\SMART\\\\anaconda3\\\\Library\\\\mingw-w64\\\\bin;C:\\\\Users\\\\SMART\\\\anaconda3\\\\Library\\\\usr\\\\bin;C:\\\\Users\\\\SMART\\\\anaconda3\\\\Library\\\\bin;C:\\\\Users\\\\SMART\\\\anaconda3\\\\Scripts;C:\\\\Users\\\\SMART\\\\anaconda3\\\\bin;C:\\\\Users\\\\SMART\\\\anaconda3\\\\condabin;C:\\\\Users\\\\SMART\\\\anaconda3;C:\\\\Users\\\\SMART\\\\anaconda3\\\\Library\\\\mingw-w64\\\\bin;C:\\\\Users\\\\SMART\\\\anaconda3\\\\Library\\\\usr\\\\bin;C:\\\\Users\\\\SMART\\\\anaconda3\\\\Library\\\\bin;C:\\\\Users\\\\SMART\\\\anaconda3\\\\Scripts;C:\\\\Program Files (x86)\\\\RSA SecurID Token Common;C:\\\\Program Files\\\\RSA SecurID Token Common;C:\\\\Program Files (x86)\\\\Intel\\\\iCLS Client;C:\\\\Program Files\\\\Intel\\\\iCLS Client;C:\\\\WINDOWS\\\\system32;C:\\\\WINDOWS;C:\\\\WINDOWS\\\\System32\\\\Wbem;C:\\\\WINDOWS\\\\System32\\\\WindowsPowerShell\\\\v1.0;C:\\\\WINDOWS\\\\System32\\\\OpenSSH;C:\\\\Program Files (x86)\\\\Intel\\\\Intel(R) Management Engine Components\\\\DAL;C:\\\\Program Files\\\\Intel\\\\Intel(R) Management Engine Components\\\\DAL;C:\\\\Program Files (x86)\\\\Intel\\\\Intel(R) Management Engine Components\\\\IPT;C:\\\\Program Files\\\\Intel\\\\Intel(R) Management Engine Components\\\\IPT;C:\\\\Users\\\\SMART\\\\AppData\\\\Local\\\\Microsoft\\\\WindowsApps;C:\\\\Users\\\\SMART\\\\AppData\\\\Local\\\\Programs\\\\MiKTeX\\\\miktex\\\\bin\\\\x64;.',\n",
       " 'PATHEXT': '.COM;.EXE;.BAT;.CMD;.VBS;.VBE;.JS;.JSE;.WSF;.WSH;.MSC',\n",
       " 'PLATFORMCODE': 'KV',\n",
       " 'PROCESSOR_ARCHITECTURE': 'AMD64',\n",
       " 'PROCESSOR_IDENTIFIER': 'Intel64 Family 6 Model 61 Stepping 4, GenuineIntel',\n",
       " 'PROCESSOR_LEVEL': '6',\n",
       " 'PROCESSOR_REVISION': '3d04',\n",
       " 'PROGRAMDATA': 'C:\\\\ProgramData',\n",
       " 'PROGRAMFILES': 'C:\\\\Program Files',\n",
       " 'PROGRAMFILES(X86)': 'C:\\\\Program Files (x86)',\n",
       " 'PROGRAMW6432': 'C:\\\\Program Files',\n",
       " 'PROMPT': '(base) $P$G',\n",
       " 'PSMODULEPATH': 'C:\\\\Program Files\\\\WindowsPowerShell\\\\Modules;C:\\\\WINDOWS\\\\system32\\\\WindowsPowerShell\\\\v1.0\\\\Modules',\n",
       " 'PUBLIC': 'C:\\\\Users\\\\Public',\n",
       " 'REGIONCODE': 'EMEA',\n",
       " 'SESSIONNAME': 'Console',\n",
       " 'SYSTEMDRIVE': 'C:',\n",
       " 'SYSTEMROOT': 'C:\\\\WINDOWS',\n",
       " 'TEMP': 'C:\\\\Users\\\\SMART\\\\AppData\\\\Local\\\\Temp',\n",
       " 'TMP': 'C:\\\\Users\\\\SMART\\\\AppData\\\\Local\\\\Temp',\n",
       " 'USERDOMAIN': 'LAPTOP-TC6VUU36',\n",
       " 'USERDOMAIN_ROAMINGPROFILE': 'LAPTOP-TC6VUU36',\n",
       " 'USERNAME': 'SMART',\n",
       " 'USERPROFILE': 'C:\\\\Users\\\\SMART',\n",
       " 'WINDIR': 'C:\\\\WINDOWS',\n",
       " 'CONDA_PREFIX': 'C:\\\\Users\\\\SMART\\\\anaconda3',\n",
       " 'JPY_INTERRUPT_EVENT': '3012',\n",
       " 'IPY_INTERRUPT_EVENT': '3012',\n",
       " 'JPY_PARENT_PID': '3056',\n",
       " 'TERM': 'xterm-color',\n",
       " 'CLICOLOR': '1',\n",
       " 'PAGER': 'cat',\n",
       " 'GIT_PAGER': 'cat',\n",
       " 'MPLBACKEND': 'module://ipykernel.pylab.backend_inline'}"
      ]
     },
     "execution_count": 17,
     "metadata": {},
     "output_type": "execute_result"
    }
   ],
   "source": [
    "%env"
   ]
  },
  {
   "cell_type": "code",
   "execution_count": 18,
   "metadata": {},
   "outputs": [
    {
     "name": "stdout",
     "output_type": "stream",
     "text": [
      "Object `<variable>` not found.\n"
     ]
    }
   ],
   "source": [
    "%pinfo <variable>"
   ]
  },
  {
   "cell_type": "code",
   "execution_count": 19,
   "metadata": {},
   "outputs": [
    {
     "data": {
      "text/plain": [
       "'C:\\\\Users\\\\SMART'"
      ]
     },
     "execution_count": 19,
     "metadata": {},
     "output_type": "execute_result"
    }
   ],
   "source": [
    "%pwd"
   ]
  },
  {
   "cell_type": "code",
   "execution_count": 7,
   "metadata": {},
   "outputs": [
    {
     "name": "stdout",
     "output_type": "stream",
     "text": [
      "C:\\Users\\SMART\n"
     ]
    }
   ],
   "source": [
    "%cd"
   ]
  },
  {
   "cell_type": "code",
   "execution_count": 14,
   "metadata": {},
   "outputs": [
    {
     "name": "stdout",
     "output_type": "stream",
     "text": [
      " Volume in drive C is Windows\n",
      " Volume Serial Number is B687-F921\n",
      "\n",
      " Directory of C:\\Users\\SMART\n",
      "\n",
      "15/04/2021  16:53    <DIR>          .\n",
      "15/04/2021  16:53    <DIR>          ..\n",
      "17/04/2021  13:03    <DIR>          .conda\n",
      "15/04/2021  14:10                43 .condarc\n",
      "15/04/2021  16:53                59 .gitconfig\n",
      "18/02/2021  15:03    <DIR>          .ipynb_checkpoints\n",
      "21/01/2021  15:52    <DIR>          .ipython\n",
      "23/01/2021  20:38    <DIR>          .jupyter\n",
      "16/03/2021  05:30    <DIR>          3D Objects\n",
      "21/01/2021  15:43    <DIR>          anaconda3\n",
      "16/03/2021  05:30    <DIR>          Contacts\n",
      "03/04/2021  11:36    <DIR>          Desktop\n",
      "15/04/2021  14:27    <DIR>          Documents\n",
      "15/04/2021  20:57    <DIR>          Downloads\n",
      "16/03/2021  05:30    <DIR>          Favorites\n",
      "16/03/2021  05:30    <DIR>          Links\n",
      "02/03/2021  10:56                22 miktex-console.lock\n",
      "16/03/2021  05:30    <DIR>          Music\n",
      "03/04/2021  01:52    <DIR>          OneDrive\n",
      "16/03/2021  05:30    <DIR>          Pictures\n",
      "16/03/2021  05:30    <DIR>          Saved Games\n",
      "16/03/2021  05:30    <DIR>          Searches\n",
      "04/02/2021  16:33    <DIR>          Untitled Folder\n",
      "06/02/2021  22:02    <DIR>          Untitled Folder 1\n",
      "24/03/2021  18:16    <DIR>          Untitled Folder 2\n",
      "25/03/2021  04:45    <DIR>          Untitled Folder 3\n",
      "06/02/2021  20:42               871 Untitled.ipynb\n",
      "18/02/2021  14:35                72 Untitled1.ipynb\n",
      "16/03/2021  05:30    <DIR>          Videos\n",
      "               5 File(s)          1,067 bytes\n",
      "              24 Dir(s)  419,660,365,824 bytes free\n"
     ]
    }
   ],
   "source": [
    "%ls"
   ]
  },
  {
   "cell_type": "code",
   "execution_count": 11,
   "metadata": {},
   "outputs": [
    {
     "name": "stdout",
     "output_type": "stream",
     "text": [
      "%matpoltlib inline\n",
      "%env\n",
      "%pinfo <variable>\n",
      "%pinfo <info>\n",
      "%pinfo <variable>\n",
      "%pwd\n",
      "%cd\n",
      "%is\n",
      "%IS\n",
      "%Is\n",
      "%history\n"
     ]
    }
   ],
   "source": [
    "%history"
   ]
  },
  {
   "cell_type": "code",
   "execution_count": 21,
   "metadata": {},
   "outputs": [
    {
     "name": "stdout",
     "output_type": "stream",
     "text": [
      "Wall time: 279 ms\n"
     ]
    }
   ],
   "source": [
    "%%time\n",
    "import random\n",
    "for i in range(0, 1000000):\n",
    "    random.random()"
   ]
  },
  {
   "cell_type": "code",
   "execution_count": null,
   "metadata": {},
   "outputs": [],
   "source": []
  }
 ],
 "metadata": {
  "kernelspec": {
   "display_name": "Python 3",
   "language": "python",
   "name": "python3"
  },
  "language_info": {
   "codemirror_mode": {
    "name": "ipython",
    "version": 3
   },
   "file_extension": ".py",
   "mimetype": "text/x-python",
   "name": "python",
   "nbconvert_exporter": "python",
   "pygments_lexer": "ipython3",
   "version": "3.8.5"
  }
 },
 "nbformat": 4,
 "nbformat_minor": 4
}
